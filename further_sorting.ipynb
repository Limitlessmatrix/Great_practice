{
 "cells": [
  {
   "cell_type": "code",
   "execution_count": 1,
   "id": "c62801fd",
   "metadata": {},
   "outputs": [],
   "source": [
    "#book 2 building blocks in python\n",
    "\n",
    "def lowercaseof(anystring):\n",
    "    \"\"\" Converts string to all lowercase \"\"\"\n",
    "    return anystring.lower()\n",
    "\n",
    "names = ['Adams', 'Ma', 'diMeola', 'Zandusky']\n",
    "names.sort(key=lowercaseof)\n"
   ]
  },
  {
   "cell_type": "code",
   "execution_count": 2,
   "id": "5dc05d24",
   "metadata": {},
   "outputs": [
    {
     "data": {
      "text/plain": [
       "<function __main__.<lambda>(anystring)>"
      ]
     },
     "execution_count": 2,
     "metadata": {},
     "output_type": "execute_result"
    }
   ],
   "source": [
    "#using anonymos functions in python\n",
    "\n",
    "lambda anystring : anystring.lower()"
   ]
  },
  {
   "cell_type": "code",
   "execution_count": 3,
   "id": "26cf3f24",
   "metadata": {},
   "outputs": [
    {
     "name": "stdout",
     "output_type": "stream",
     "text": [
      "['Adams', 'diMeola', 'Ma', 'Zandusky']\n"
     ]
    }
   ],
   "source": [
    "names = ['Adams', 'Ma', 'diMeola', 'Zandusky']\n",
    "names.sort(key = lambda anystring : anystring.lower())\n",
    "print(names)"
   ]
  },
  {
   "cell_type": "code",
   "execution_count": 5,
   "id": "f0aa3ab2",
   "metadata": {},
   "outputs": [
    {
     "name": "stdout",
     "output_type": "stream",
     "text": [
      "['Adams', 'diMeola', 'Ma', 'Zandusky']\n"
     ]
    }
   ],
   "source": [
    "#shorter version\n",
    "names = ['Adams', 'Ma', 'diMeola', 'Zandusky']\n",
    "names.sort(key = lambda s: s.lower())\n",
    "print(names)\n",
    "\n"
   ]
  },
  {
   "cell_type": "code",
   "execution_count": 6,
   "id": "053d0fa4",
   "metadata": {},
   "outputs": [],
   "source": [
    "#single line function\n",
    "currency = lambda n : f\"${n:,.2f}\""
   ]
  },
  {
   "cell_type": "code",
   "execution_count": 7,
   "id": "68b701b7",
   "metadata": {},
   "outputs": [],
   "source": [
    "#single line function\n",
    "percent = lambda n : f\"{n:.2%}\""
   ]
  },
  {
   "cell_type": "code",
   "execution_count": 8,
   "id": "af22156c",
   "metadata": {},
   "outputs": [
    {
     "name": "stdout",
     "output_type": "stream",
     "text": [
      "$99.00\n"
     ]
    }
   ],
   "source": [
    "#test them out\n",
    "print(currency(99))"
   ]
  },
  {
   "cell_type": "code",
   "execution_count": 10,
   "id": "21db994e",
   "metadata": {},
   "outputs": [
    {
     "name": "stdout",
     "output_type": "stream",
     "text": [
      "50.00%\n"
     ]
    }
   ],
   "source": [
    "#test\n",
    "print(percent(.5))"
   ]
  },
  {
   "cell_type": "code",
   "execution_count": null,
   "id": "eef0b554",
   "metadata": {},
   "outputs": [],
   "source": []
  }
 ],
 "metadata": {
  "kernelspec": {
   "display_name": "Python 3",
   "language": "python",
   "name": "python3"
  },
  "language_info": {
   "codemirror_mode": {
    "name": "ipython",
    "version": 3
   },
   "file_extension": ".py",
   "mimetype": "text/x-python",
   "name": "python",
   "nbconvert_exporter": "python",
   "pygments_lexer": "ipython3",
   "version": "3.8.8"
  }
 },
 "nbformat": 4,
 "nbformat_minor": 5
}
